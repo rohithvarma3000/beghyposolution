{
  "nbformat": 4,
  "nbformat_minor": 0,
  "metadata": {
    "colab": {
      "name": "finalcode.ipynb",
      "provenance": [],
      "collapsed_sections": []
    },
    "kernelspec": {
      "name": "python3",
      "display_name": "Python 3"
    },
    "language_info": {
      "name": "python"
    }
  },
  "cells": [
    {
      "cell_type": "code",
      "metadata": {
        "id": "KUrnKNvJVvR6"
      },
      "source": [
        "import pandas as pd\n",
        "import numpy as np"
      ],
      "execution_count": 1,
      "outputs": []
    },
    {
      "cell_type": "code",
      "metadata": {
        "id": "pBu3A0nAV30m"
      },
      "source": [
        "dat = pd.read_csv('/content/music_train.csv',index_col=0)"
      ],
      "execution_count": 2,
      "outputs": []
    },
    {
      "cell_type": "code",
      "metadata": {
        "id": "cR5rlUFpV5OS"
      },
      "source": [
        "x = dat.drop('genre',axis=1)\n",
        "y = dat['genre']"
      ],
      "execution_count": 3,
      "outputs": []
    },
    {
      "cell_type": "code",
      "metadata": {
        "id": "OaZ_ZmoPV6Id"
      },
      "source": [
        "x = x.apply(lambda x:x.fillna(x.mean()))\n",
        "from sklearn.preprocessing import StandardScaler\n",
        "sc = StandardScaler()\n",
        "sc.fit(x)\n",
        "dat_scaled = sc.transform(x)\n",
        "dat_scaled = pd.DataFrame(data = dat_scaled,index = x.index,columns = x.columns)"
      ],
      "execution_count": 4,
      "outputs": []
    },
    {
      "cell_type": "code",
      "metadata": {
        "id": "rMQpl-siV6Vg"
      },
      "source": [
        "test_dat = pd.read_csv('/content/music_test.csv',index_col=0)\n",
        "test_dat = test_dat.apply(lambda x:x.fillna(x.mean()))\n",
        "test_dat_scal = pd.DataFrame(data=sc.transform(test_dat),index=test_dat.index,columns=test_dat.columns)"
      ],
      "execution_count": 5,
      "outputs": []
    },
    {
      "cell_type": "code",
      "metadata": {
        "id": "sj00i1SEV6hY"
      },
      "source": [
        "from sklearn.ensemble import RandomForestClassifier\n",
        "rfc = RandomForestClassifier(n_estimators=900,bootstrap=False,max_features='log2',min_samples_split=3,max_depth=16)\n",
        "rfc.fit(dat_scaled,y)\n",
        "rfc_sub = rfc.predict(test_dat_scal)"
      ],
      "execution_count": 6,
      "outputs": []
    },
    {
      "cell_type": "code",
      "metadata": {
        "id": "aRJLlb5sV6qd"
      },
      "source": [
        "output = pd.DataFrame({'id': test_dat.index,'genre': rfc_sub})\n",
        "output.to_csv('/content/final.csv', index=False)"
      ],
      "execution_count": 7,
      "outputs": []
    }
  ]
}